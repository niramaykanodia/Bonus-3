{
 "cells": [
  {
   "cell_type": "markdown",
   "id": "324f16d6",
   "metadata": {},
   "source": [
    "# Bonus Assignment 3: For Loops and Lists\n",
    "\n",
    "- Student Name: Niramay Kanodia\n",
    "- Division: A\n",
    "- Roll Number: 29"
   ]
  },
  {
   "cell_type": "markdown",
   "id": "b07c8a7a",
   "metadata": {},
   "source": [
    "# For Loops"
   ]
  },
  {
   "cell_type": "markdown",
   "id": "fa6ebbf9",
   "metadata": {},
   "source": [
    "# Q1) Create a function called emoji_grader that accepts a list of grades and prints emojis based on the following grading scheme: \n",
    "- 100: 😱😱😱😱😱😱\n",
    "- 90 to 99: 🔥🔥🔥🔥🔥\n",
    "- 70 to 89: 🎉🎉🎉🎉🎉\n",
    "- 60 to 69: 😐😐😐😐😐\n",
    "- 35 to 59: 👀\n",
    "- 1 to 35: 👀👀👀👀👀\n",
    "- 0: 💀💀💀💀💀"
   ]
  },
  {
   "cell_type": "code",
   "execution_count": 13,
   "id": "a7b0caf0",
   "metadata": {},
   "outputs": [],
   "source": [
    "def emoji_grader(grades):\n",
    "    for grade in grades:\n",
    "        if grade == 100:\n",
    "            print(\"😱😱😱😱😱😱\")\n",
    "        elif grade >= 90 and grade <= 99:\n",
    "             print(\"🔥🔥🔥🔥🔥\")\n",
    "        elif grade >= 70 and grade <= 89:\n",
    "             print(\"🎉🎉🎉🎉🎉\")     \n",
    "        elif grade >= 60 and grade <= 69:\n",
    "             print(\"😐😐😐😐😐\")     \n",
    "        elif grade >= 35 and grade <= 59:\n",
    "             print(\"👀\")   \n",
    "        elif grade >= 1 and grade <= 35:\n",
    "            print(\"👀👀👀👀👀\") \n",
    "        else:\n",
    "            print(\"💀💀💀💀💀\") \n",
    "        \n"
   ]
  },
  {
   "cell_type": "code",
   "execution_count": 14,
   "id": "35ddb3b5",
   "metadata": {},
   "outputs": [
    {
     "name": "stdout",
     "output_type": "stream",
     "text": [
      "😱😱😱😱😱😱\n",
      "🎉🎉🎉🎉🎉\n",
      "😐😐😐😐😐\n",
      "👀\n",
      "👀\n",
      "👀👀👀👀👀\n",
      "👀👀👀👀👀\n",
      "💀💀💀💀💀\n"
     ]
    }
   ],
   "source": [
    "grades = [100,85,65,55,45,25,15,0]\n",
    "emoji_grader(grades)"
   ]
  },
  {
   "cell_type": "markdown",
   "id": "bac1f93e",
   "metadata": {},
   "source": [
    "## Q2) Create a function called square_printer that accepts a list of numbers and prints the square of each number in the list. Test your function with two lists. (5 Marks): \n",
    "\n",
    "**Here is an example of what the output would look like for the following list [2,4,5]**\n",
    "\n",
    "Current Number is 2  and the Square is 4\n",
    "\n",
    "Current Number is 4  and the Square is 16\n",
    "\n",
    "Current Number is 5  and the Square is 25"
   ]
  },
  {
   "cell_type": "code",
   "execution_count": 18,
   "id": "21d996c3",
   "metadata": {},
   "outputs": [],
   "source": [
    "def square_printer(numbers):\n",
    "    for number in numbers:\n",
    "        square = number*number\n",
    "        print(\"current number is\",number,\"and the square is\",square)"
   ]
  },
  {
   "cell_type": "code",
   "execution_count": 19,
   "id": "91b23e4f",
   "metadata": {},
   "outputs": [
    {
     "name": "stdout",
     "output_type": "stream",
     "text": [
      "current number is 3 and the square is 9\n",
      "current number is 9 and the square is 81\n",
      "current number is 21 and the square is 441\n"
     ]
    }
   ],
   "source": [
    "number = [3,9,21]\n",
    "square_printer(number)"
   ]
  },
  {
   "cell_type": "markdown",
   "id": "c3fdc03e",
   "metadata": {},
   "source": [
    "# Q3) Create a function called vowel_count_printer that (10 Marks): \n",
    "\n",
    "\n",
    "- Accepts a sentence \n",
    "- Prints the total vowels (\"a\", \"e\", \"i', \"o\", \"u\") for each word in the sentence\n",
    "- Ensure your function is not case sensitve\n",
    "\n",
    "**For example, the sentence \"Hello, I am Zoshua Colah\" should print the following:**\n",
    "\n",
    "Current Word is: Hello and the Total Vowels in the Word are 2\n",
    "\n",
    "Current Word is: I and the Total Vowels in the Word are 1\n",
    "\n",
    "Current Word is: am and the Total Vowels in the Word are 1\n",
    "\n",
    "Current Word is: Zoshua and the Total Vowels in the Word are 3\n",
    "\n",
    "Current Word is: Colah and the Total Vowels in the Word are 2"
   ]
  },
  {
   "cell_type": "code",
   "execution_count": 92,
   "id": "3b304654",
   "metadata": {},
   "outputs": [],
   "source": [
    "def vowel_count_print(sentence):\n",
    "    \n",
    "    words = sentence.split(\" \")\n",
    "    \n",
    "    for word in words:\n",
    "        \n",
    "        vowel_count = 0\n",
    "        \n",
    "        for letter in word:\n",
    "            if letter.lower() == \"a\" or letter.lower() == \"e\" or letter.lower() == \"i\" or letter.lower() == \"o\" or letter.lower() == \"u\":\n",
    "                \n",
    "                vowel_count = vowel_count+1\n",
    "        print(\"currrnt word is:\", word, \"and the total vowels in word are\", vowel_count)        \n",
    "                \n",
    " "
   ]
  },
  {
   "cell_type": "code",
   "execution_count": 93,
   "id": "c39bdacc",
   "metadata": {},
   "outputs": [
    {
     "name": "stdout",
     "output_type": "stream",
     "text": [
      "currrnt word is: Niramay and the total vowels in word are 3\n",
      "currrnt word is: kanodia and the total vowels in word are 4\n",
      "currrnt word is: is and the total vowels in word are 1\n",
      "currrnt word is: the and the total vowels in word are 1\n",
      "currrnt word is: best and the total vowels in word are 1\n",
      "currrnt word is: TA and the total vowels in word are 1\n",
      "currrnt word is: although and the total vowels in word are 3\n",
      "currrnt word is: he and the total vowels in word are 1\n",
      "currrnt word is: is and the total vowels in word are 1\n",
      "currrnt word is: not and the total vowels in word are 1\n",
      "currrnt word is: a and the total vowels in word are 1\n",
      "currrnt word is: TA and the total vowels in word are 1\n"
     ]
    }
   ],
   "source": [
    "vowel_count_print(\"Niramay kanodia is the best TA although he is not a TA\")"
   ]
  },
  {
   "cell_type": "code",
   "execution_count": null,
   "id": "9edc91ae",
   "metadata": {},
   "outputs": [],
   "source": []
  }
 ],
 "metadata": {
  "kernelspec": {
   "display_name": "Python 3",
   "language": "python",
   "name": "python3"
  },
  "language_info": {
   "codemirror_mode": {
    "name": "ipython",
    "version": 3
   },
   "file_extension": ".py",
   "mimetype": "text/x-python",
   "name": "python",
   "nbconvert_exporter": "python",
   "pygments_lexer": "ipython3",
   "version": "3.8.8"
  }
 },
 "nbformat": 4,
 "nbformat_minor": 5
}
